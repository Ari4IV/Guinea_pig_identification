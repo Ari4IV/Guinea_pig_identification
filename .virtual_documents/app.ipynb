import numpy as np
import pandas as pd
import matplotlib.pyplot as plt
import gradio as gr
from tensorflow.keras.models import load_model
from tensorflow.keras.preprocessing.image import load_img, img_to_array





model = load_model('./model/guinea_pig_model.h5')





breeds = ['Abyssinian', 'American', 'Silkie', 'Skinny']





def predict_guinea_pig_breed(image):
    # 調整圖片大小與正規化
    image = image.reshape((1, 128, 128, 3))
    image = image / 255.0
    prediction = model.predict(image)
    breed_predicted = breeds[np.argmax(prediction)]
    
    return breed_predicted





iface = gr.Interface(
    fn=predict_guinea_pig_breed, 
    inputs=gr.inputs.Image(shape=(128, 128)), 
    outputs=gr.outputs.Textbox(),
    live=True,  # 立即顯示預測結果
    capture_session=True,
)





iface.launch(share=True)
