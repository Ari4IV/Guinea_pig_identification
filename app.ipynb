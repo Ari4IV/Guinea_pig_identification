{
 "cells": [
  {
   "cell_type": "code",
   "execution_count": 1,
   "id": "a3f2dc0c-27fb-42df-b9af-cb96279304cc",
   "metadata": {},
   "outputs": [],
   "source": [
    "import numpy as np\n",
    "import pandas as pd\n",
    "import matplotlib.pyplot as plt\n",
    "import gradio as gr\n",
    "from tensorflow.keras.models import load_model\n",
    "from tensorflow.keras.preprocessing.image import load_img, img_to_array"
   ]
  },
  {
   "cell_type": "markdown",
   "id": "2a14e1e3-1d48-48fd-aa4f-01c8fcf56ed6",
   "metadata": {},
   "source": [
    "# 讀入訓練好的模型"
   ]
  },
  {
   "cell_type": "code",
   "execution_count": 2,
   "id": "4d69115c-5e0e-4bb5-8d5a-964d84838935",
   "metadata": {},
   "outputs": [
    {
     "name": "stderr",
     "output_type": "stream",
     "text": [
      "WARNING:absl:At this time, the v2.11+ optimizer `tf.keras.optimizers.SGD` runs slowly on M1/M2 Macs, please use the legacy Keras optimizer instead, located at `tf.keras.optimizers.legacy.SGD`.\n"
     ]
    }
   ],
   "source": [
    "model = load_model('./model/guinea_pig_model.h5')"
   ]
  },
  {
   "cell_type": "markdown",
   "id": "c0045de3-b404-4cd8-9c3f-7b636ff40ea2",
   "metadata": {},
   "source": [
    "# 定義品種"
   ]
  },
  {
   "cell_type": "code",
   "execution_count": 3,
   "id": "a8e86f81-5a78-4002-a32f-d44ea20414e9",
   "metadata": {},
   "outputs": [],
   "source": [
    "breeds = ['Abyssinian', 'American', 'Silkie', 'Skinny']"
   ]
  },
  {
   "cell_type": "markdown",
   "id": "b97f353b-101e-4818-a06c-1f187dd97f29",
   "metadata": {},
   "source": [
    "# 設計 Gradio 用的函式"
   ]
  },
  {
   "cell_type": "code",
   "execution_count": 4,
   "id": "5bd2d040-9d5f-446c-b7c3-83a7401a245a",
   "metadata": {},
   "outputs": [],
   "source": [
    "def predict_guinea_pig_breed(image):\n",
    "    # 調整圖片大小與正規化\n",
    "    image = image.reshape((1, 128, 128, 3))\n",
    "    image = image / 255.0\n",
    "    prediction = model.predict(image)\n",
    "    breed_predicted = breeds[np.argmax(prediction)]\n",
    "    \n",
    "    return breed_predicted"
   ]
  },
  {
   "cell_type": "markdown",
   "id": "be76d52c-88b9-4b62-af33-bc7f44276ddc",
   "metadata": {},
   "source": [
    "# 建立 Gradio 界面"
   ]
  },
  {
   "cell_type": "code",
   "execution_count": 5,
   "id": "86df9178-e424-4625-b0a0-274048de2063",
   "metadata": {},
   "outputs": [
    {
     "name": "stderr",
     "output_type": "stream",
     "text": [
      "/var/folders/gh/vfj4b49d4b56xlzm2ddb6cgr0000gn/T/ipykernel_42164/4054922286.py:3: GradioDeprecationWarning: Usage of gradio.inputs is deprecated, and will not be supported in the future, please import your component from gradio.components\n",
      "  inputs=gr.inputs.Image(shape=(128, 128)),\n",
      "/var/folders/gh/vfj4b49d4b56xlzm2ddb6cgr0000gn/T/ipykernel_42164/4054922286.py:3: GradioDeprecationWarning: `optional` parameter is deprecated, and it has no effect\n",
      "  inputs=gr.inputs.Image(shape=(128, 128)),\n",
      "/var/folders/gh/vfj4b49d4b56xlzm2ddb6cgr0000gn/T/ipykernel_42164/4054922286.py:4: GradioDeprecationWarning: Usage of gradio.outputs is deprecated, and will not be supported in the future, please import your components from gradio.components\n",
      "  outputs=gr.outputs.Textbox(),\n",
      "/var/folders/gh/vfj4b49d4b56xlzm2ddb6cgr0000gn/T/ipykernel_42164/4054922286.py:1: GradioDeprecationWarning: `capture_session` parameter is deprecated, and it has no effect\n",
      "  iface = gr.Interface(\n"
     ]
    }
   ],
   "source": [
    "iface = gr.Interface(\n",
    "    fn=predict_guinea_pig_breed, \n",
    "    inputs=gr.inputs.Image(shape=(128, 128)), \n",
    "    outputs=gr.outputs.Textbox(),\n",
    "    live=True,  # 立即顯示預測結果\n",
    "    capture_session=True,\n",
    ")"
   ]
  },
  {
   "cell_type": "markdown",
   "id": "2680349c-5b5a-4dcb-822c-6e7462cd85d8",
   "metadata": {},
   "source": [
    "# 執行 Gradio web app"
   ]
  },
  {
   "cell_type": "code",
   "execution_count": 6,
   "id": "2102f6e1-afcd-4202-9934-e9f05466a1b8",
   "metadata": {},
   "outputs": [
    {
     "name": "stdout",
     "output_type": "stream",
     "text": [
      "Running on local URL:  http://127.0.0.1:7860\n",
      "Running on public URL: https://522168a3edc7e098ab.gradio.live\n",
      "\n",
      "This share link expires in 72 hours. For free permanent hosting and GPU upgrades, run `gradio deploy` from Terminal to deploy to Spaces (https://huggingface.co/spaces)\n"
     ]
    },
    {
     "data": {
      "text/html": [
       "<div><iframe src=\"https://522168a3edc7e098ab.gradio.live\" width=\"100%\" height=\"500\" allow=\"autoplay; camera; microphone; clipboard-read; clipboard-write;\" frameborder=\"0\" allowfullscreen></iframe></div>"
      ],
      "text/plain": [
       "<IPython.core.display.HTML object>"
      ]
     },
     "metadata": {},
     "output_type": "display_data"
    },
    {
     "data": {
      "text/plain": []
     },
     "execution_count": 6,
     "metadata": {},
     "output_type": "execute_result"
    },
    {
     "name": "stdout",
     "output_type": "stream",
     "text": [
      "1/1 [==============================] - 0s 128ms/step\n",
      "1/1 [==============================] - 0s 77ms/step\n"
     ]
    }
   ],
   "source": [
    "iface.launch(share=True)"
   ]
  }
 ],
 "metadata": {
  "kernelspec": {
   "display_name": "Python 3 (ipykernel)",
   "language": "python",
   "name": "python3"
  },
  "language_info": {
   "codemirror_mode": {
    "name": "ipython",
    "version": 3
   },
   "file_extension": ".py",
   "mimetype": "text/x-python",
   "name": "python",
   "nbconvert_exporter": "python",
   "pygments_lexer": "ipython3",
   "version": "3.11.5"
  }
 },
 "nbformat": 4,
 "nbformat_minor": 5
}
