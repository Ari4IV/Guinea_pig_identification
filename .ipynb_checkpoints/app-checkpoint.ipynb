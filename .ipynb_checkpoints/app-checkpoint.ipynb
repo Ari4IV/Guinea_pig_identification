{
 "cells": [
  {
   "cell_type": "code",
   "execution_count": 1,
   "id": "a3f2dc0c-27fb-42df-b9af-cb96279304cc",
   "metadata": {},
   "outputs": [],
   "source": [
    "import numpy as np  # 匯入NumPy，它是Python的一個數學函式庫，常用於資料操作。\n",
    "import pandas as pd  # 匯入Pandas，它是Python的一個資料分析函式庫。\n",
    "import matplotlib.pyplot as plt  # 從Matplotlib套件匯入pyplot模組，用於繪製圖表和視覺化。\n",
    "import gradio as gr  # 匯入Gradio，一個用於創建機器學習UI界面的工具。\n",
    "from tensorflow.keras.models import load_model  # 從TensorFlow匯入函數，用於載入先前訓練好的模型。\n",
    "from tensorflow.keras.preprocessing.image import load_img, img_to_array  # 從TensorFlow匯入影像處理工具。"
   ]
  },
  {
   "cell_type": "markdown",
   "id": "2a14e1e3-1d48-48fd-aa4f-01c8fcf56ed6",
   "metadata": {},
   "source": [
    "# 讀入訓練好的模型"
   ]
  },
  {
   "cell_type": "code",
   "execution_count": 2,
   "id": "4d69115c-5e0e-4bb5-8d5a-964d84838935",
   "metadata": {},
   "outputs": [],
   "source": [
    "# 載入先前儲存的模型\n",
    "# 從指定的路徑 './model/guinea_pig_model.keras' 加載模型。\n",
    "model = load_model('./model/guinea_pig_model.h5')"
   ]
  },
  {
   "cell_type": "markdown",
   "id": "c0045de3-b404-4cd8-9c3f-7b636ff40ea2",
   "metadata": {},
   "source": [
    "# 定義品種"
   ]
  },
  {
   "cell_type": "code",
   "execution_count": 3,
   "id": "a8e86f81-5a78-4002-a32f-d44ea20414e9",
   "metadata": {},
   "outputs": [],
   "source": [
    "# 定義四個天竺鼠的品種名稱\n",
    "breeds = ['Abyssinian', 'American', 'Silkie', 'Skinny']"
   ]
  },
  {
   "cell_type": "markdown",
   "id": "b97f353b-101e-4818-a06c-1f187dd97f29",
   "metadata": {},
   "source": [
    "# 設計 Gradio 用的函式"
   ]
  },
  {
   "cell_type": "code",
   "execution_count": 4,
   "id": "5bd2d040-9d5f-446c-b7c3-83a7401a245a",
   "metadata": {},
   "outputs": [],
   "source": [
    "def predict_guinea_pig_breed(image):\n",
    "    # 檢查圖片是否存在。如果為 None，則返回錯誤消息。\n",
    "    if image is None:\n",
    "        return \"無法讀取圖片，請嘗試其他圖片。\"\n",
    "\n",
    "    # 調整輸入圖片的維度以符合模型的輸入需求。\n",
    "    # 從 (128, 128, 3) 調整為 (1, 128, 128, 3)。\n",
    "    image = image.reshape((1, 128, 128, 3))\n",
    "    \n",
    "    # 將圖片像素值正規化到 0 到 1 的範圍。\n",
    "    image = image / 255.0\n",
    "    \n",
    "    # 使用模型進行預測。\n",
    "    prediction = model.predict(image)\n",
    "    \n",
    "    # 從預測結果中找到最高的概率並對應到相應的品種名稱。\n",
    "    breed_predicted = breeds[np.argmax(prediction)]\n",
    "    \n",
    "    # 返回預測的品種名稱。\n",
    "    return breed_predicted"
   ]
  },
  {
   "cell_type": "markdown",
   "id": "be76d52c-88b9-4b62-af33-bc7f44276ddc",
   "metadata": {},
   "source": [
    "# 建立 Gradio 界面"
   ]
  },
  {
   "cell_type": "code",
   "execution_count": 5,
   "id": "86df9178-e424-4625-b0a0-274048de2063",
   "metadata": {},
   "outputs": [],
   "source": [
    "# 使用 Gradio 建立一個用戶界面\n",
    "iface = gr.Interface(\n",
    "    # 指定用於預測的功能函數。\n",
    "    fn=predict_guinea_pig_breed, \n",
    "    \n",
    "    # 設定輸入類型為圖片，且圖片的大小為 (128, 128)。\n",
    "    inputs=gr.components.Image(shape=(128, 128)), \n",
    "    \n",
    "    # 設定輸出類型為文字框，以顯示預測的品種名稱。\n",
    "    outputs=gr.components.Textbox(),\n",
    "    \n",
    "    # 當設為 True 時，會在用戶上傳圖片後立即顯示預測結果，不需要點擊任何按鈕。\n",
    "    live=True,  \n",
    ")"
   ]
  },
  {
   "cell_type": "markdown",
   "id": "2680349c-5b5a-4dcb-822c-6e7462cd85d8",
   "metadata": {},
   "source": [
    "# 執行 Gradio web app"
   ]
  },
  {
   "cell_type": "code",
   "execution_count": 6,
   "id": "2102f6e1-afcd-4202-9934-e9f05466a1b8",
   "metadata": {
    "scrolled": true
   },
   "outputs": [
    {
     "name": "stdout",
     "output_type": "stream",
     "text": [
      "Running on local URL:  http://127.0.0.1:7860\n",
      "Running on public URL: https://42903a49838efbf66a.gradio.live\n",
      "\n",
      "This share link expires in 72 hours. For free permanent hosting and GPU upgrades, run `gradio deploy` from Terminal to deploy to Spaces (https://huggingface.co/spaces)\n"
     ]
    },
    {
     "data": {
      "text/html": [
       "<div><iframe src=\"https://42903a49838efbf66a.gradio.live\" width=\"100%\" height=\"500\" allow=\"autoplay; camera; microphone; clipboard-read; clipboard-write;\" frameborder=\"0\" allowfullscreen></iframe></div>"
      ],
      "text/plain": [
       "<IPython.core.display.HTML object>"
      ]
     },
     "metadata": {},
     "output_type": "display_data"
    },
    {
     "data": {
      "text/plain": []
     },
     "execution_count": 6,
     "metadata": {},
     "output_type": "execute_result"
    },
    {
     "name": "stdout",
     "output_type": "stream",
     "text": [
      "1/1 [==============================] - 0s 190ms/step\n"
     ]
    }
   ],
   "source": [
    "# 啟動 Gradio 用戶界面\n",
    "# 當 `share=True`，Gradio 會生成一個公開連結，你可以分享給其他人，讓他們也能夠訪問並使用這個界面。\n",
    "iface.launch(share=True)"
   ]
  }
 ],
 "metadata": {
  "kernelspec": {
   "display_name": "Python 3 (ipykernel)",
   "language": "python",
   "name": "python3"
  },
  "language_info": {
   "codemirror_mode": {
    "name": "ipython",
    "version": 3
   },
   "file_extension": ".py",
   "mimetype": "text/x-python",
   "name": "python",
   "nbconvert_exporter": "python",
   "pygments_lexer": "ipython3",
   "version": "3.11.5"
  }
 },
 "nbformat": 4,
 "nbformat_minor": 5
}
